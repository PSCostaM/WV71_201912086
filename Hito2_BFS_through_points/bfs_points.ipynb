{
  "nbformat": 4,
  "nbformat_minor": 0,
  "metadata": {
    "colab": {
      "name": "bfs_points.ipynb",
      "provenance": [],
      "authorship_tag": "ABX9TyOplzA6j98w/RRwsbYT41L+",
      "include_colab_link": true
    },
    "kernelspec": {
      "name": "python3",
      "display_name": "Python 3"
    },
    "language_info": {
      "name": "python"
    }
  },
  "cells": [
    {
      "cell_type": "markdown",
      "metadata": {
        "id": "view-in-github",
        "colab_type": "text"
      },
      "source": [
        "<a href=\"https://colab.research.google.com/github/PSCostaM/wv71_tf_201912086_201816664_u201913822/blob/main/Hito2_BFS_through_points/bfs_points.ipynb\" target=\"_parent\"><img src=\"https://colab.research.google.com/assets/colab-badge.svg\" alt=\"Open In Colab\"/></a>"
      ]
    },
    {
      "cell_type": "code",
      "metadata": {
        "id": "zlVLNWoNB8vw"
      },
      "source": [
        "import graphviz as gv\n",
        "import numpy as np\n",
        "import pandas as pd"
      ],
      "execution_count": 2,
      "outputs": []
    },
    {
      "cell_type": "code",
      "metadata": {
        "id": "4v75VC6gCrHF"
      },
      "source": [
        "warehouse = \"https://raw.githubusercontent.com/PSCostaM/wv71_tf_201912086_201816664_u201913822/main/DataSet/Almacenes.csv\"#Using this instead of reading csv files\n",
        "delivery_points = \"https://raw.githubusercontent.com/PSCostaM/wv71_tf_201912086_201816664_u201913822/main/DataSet/PuntosEntrega.csv\"#same as above\n",
        "\n",
        "warehouse_file = pd.read_csv(warehouse).to_numpy()\n",
        "delivery_points_file = pd.read_csv(delivery_points).to_numpy()\n",
        "\n",
        "matrix = []\n",
        "for i in range(1000):\n",
        "    l = [0]*1000\n",
        "    matrix.append(l)\n",
        "\n",
        "for x in warehouse_file:\n",
        "    matrix[x[0]][x[1]] = 1\n",
        "\n",
        "for x in delivery_points_file:\n",
        "    if matrix[x[0]][x[1]] != 1:\n",
        "       matrix[x[0]][x[1]] = 2"
      ],
      "execution_count": 3,
      "outputs": []
    },
    {
      "cell_type": "code",
      "metadata": {
        "id": "LXKGUZTUCCXU"
      },
      "source": [
        "def adjlShow(L, labels=None, directed=False, weighted=False, path=[],\n",
        "             layout=\"sfdp\"):\n",
        "  g = gv.Digraph(\"G\") if directed else gv.Graph(\"G\")\n",
        "  g.graph_attr[\"layout\"] = layout\n",
        "  g.edge_attr[\"color\"] = \"gray\"\n",
        "  g.node_attr[\"color\"] = \"orangered\"\n",
        "  g.node_attr[\"width\"] = \"0.1\"\n",
        "  g.node_attr[\"height\"] = \"0.1\"\n",
        "  g.node_attr[\"fontsize\"] = \"8\"\n",
        "  g.node_attr[\"fontcolor\"] = \"mediumslateblue\"\n",
        "  g.node_attr[\"fontname\"] = \"monospace\"\n",
        "  g.edge_attr[\"fontsize\"] = \"8\"\n",
        "  g.edge_attr[\"fontname\"] = \"monospace\"\n",
        "  n = len(L)\n",
        "  for u in range(n):\n",
        "    g.node(str(u), labels[u] if labels else str(u))\n",
        "  added = set()\n",
        "  for v, u in enumerate(path):\n",
        "    if u != None:\n",
        "      if weighted:\n",
        "        for vi, w in G[u]:\n",
        "          if vi == v:\n",
        "            break\n",
        "        g.edge(str(u), str(v), str(w), dir=\"forward\", penwidth=\"2\", color=\"orange\")\n",
        "      else:\n",
        "        g.edge(str(u), str(v), dir=\"forward\", penwidth=\"2\", color=\"orange\")\n",
        "      added.add(f\"{u},{v}\")\n",
        "      added.add(f\"{v},{u}\")\n",
        "  if weighted:\n",
        "    for u in range(n):\n",
        "      for v, w in L[u]:\n",
        "        if not directed and not f\"{u},{v}\" in added:\n",
        "          added.add(f\"{u},{v}\")\n",
        "          added.add(f\"{v},{u}\")\n",
        "          g.edge(str(u), str(v), str(w))\n",
        "        elif directed:\n",
        "          g.edge(str(u), str(v), str(w))\n",
        "  else:\n",
        "    for u in range(n):\n",
        "      for v in L[u]:\n",
        "        if not directed and not f\"{u},{v}\" in added:\n",
        "          added.add(f\"{u},{v}\")\n",
        "          added.add(f\"{v},{u}\")\n",
        "          g.edge(str(u), str(v))\n",
        "        elif directed:\n",
        "          g.edge(str(u), str(v))\n",
        "  return g"
      ],
      "execution_count": 4,
      "outputs": []
    },
    {
      "cell_type": "code",
      "metadata": {
        "id": "BMf6JjFNDs_Y"
      },
      "source": [
        "pts = list()\n",
        "n = 1000\n",
        "for i in range(n*n):\n",
        "    l = [0]*3\n",
        "    pts.append(l)\n",
        "\n",
        "for i in range(n):\n",
        "  for j in range(n):\n",
        "    pts[j+n*i][0] = j\n",
        "    pts[j+n*i][1] = i                \n",
        "    pts[j+n*i][2] = matrix[i][j]  "
      ],
      "execution_count": 6,
      "outputs": []
    },
    {
      "cell_type": "code",
      "metadata": {
        "id": "gZFKn0qVD4QO"
      },
      "source": [
        "graph = list()\n",
        "\n",
        "for i in range(n):\n",
        "  for j in range(n):\n",
        "    l = list()\n",
        "    if j+n*i-1000 >= 0:\n",
        "      l.append(j+n*i-1000)\n",
        "    if j+n*i-1 >= 0:\n",
        "      l.append(j+n*i-1)\n",
        "    if j+n*i+1 <= 999999:\n",
        "      l.append(j+n*i+1)\n",
        "    if j+n*i+1000 <= 999999:\n",
        "      l.append(j+n*i+1000)\n",
        "    \n",
        "    graph.append(l)"
      ],
      "execution_count": 7,
      "outputs": []
    },
    {
      "cell_type": "code",
      "metadata": {
        "id": "TpL4X7T3EAXC"
      },
      "source": [
        "def bfs(G, s):\n",
        "  n = len(G)\n",
        "  visited = [False]*n\n",
        "  parent = [None]*n\n",
        "  queue = [s]\n",
        "  visited[s] = True\n",
        "\n",
        "  while queue:\n",
        "    u = queue.pop(0)\n",
        "    for v in G[u]:\n",
        "      if not visited[v]:\n",
        "        visited[v] = True\n",
        "        parent[v] = u\n",
        "        queue.append(v)\n",
        "\n",
        "  return parent"
      ],
      "execution_count": 8,
      "outputs": []
    },
    {
      "cell_type": "code",
      "metadata": {
        "id": "hic88RMrEBPc"
      },
      "source": [
        "BFS_G = bfs(graph,0)"
      ],
      "execution_count": 9,
      "outputs": []
    },
    {
      "cell_type": "code",
      "metadata": {
        "id": "W6lh5YUmEE4A"
      },
      "source": [
        "adjlShow(graph, path = BFS_G)"
      ],
      "execution_count": 10,
      "outputs": []
    }
  ]
}